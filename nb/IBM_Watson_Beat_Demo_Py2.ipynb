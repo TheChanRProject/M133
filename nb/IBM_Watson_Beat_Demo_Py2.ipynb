{
  "nbformat": 4,
  "nbformat_minor": 0,
  "metadata": {
    "colab": {
      "name": "IBM Watson Beat Demo Py2.ipynb",
      "version": "0.3.2",
      "provenance": [],
      "include_colab_link": true
    },
    "kernelspec": {
      "name": "python2",
      "display_name": "Python 2"
    }
  },
  "cells": [
    {
      "cell_type": "markdown",
      "metadata": {
        "id": "view-in-github",
        "colab_type": "text"
      },
      "source": [
        "<a href=\"https://colab.research.google.com/github/TheChanRProject/M133/blob/master/IBM_Watson_Beat_Demo_Py2.ipynb\" target=\"_parent\"><img src=\"https://colab.research.google.com/assets/colab-badge.svg\" alt=\"Open In Colab\"/></a>"
      ]
    },
    {
      "metadata": {
        "id": "XwgKsfyTiNm_",
        "colab_type": "code",
        "colab": {
          "base_uri": "https://localhost:8080/",
          "height": 34
        },
        "outputId": "ca031cf0-41d5-4bd7-8959-50bbae998553"
      },
      "cell_type": "code",
      "source": [
        "!git clone https://github.com/cognitive-catalyst/watson-beat.git"
      ],
      "execution_count": 1,
      "outputs": [
        {
          "output_type": "stream",
          "text": [
            "fatal: destination path 'watson-beat' already exists and is not an empty directory.\n"
          ],
          "name": "stdout"
        }
      ]
    },
    {
      "metadata": {
        "id": "dnzKiH84iTnv",
        "colab_type": "code",
        "colab": {
          "base_uri": "https://localhost:8080/",
          "height": 34
        },
        "outputId": "16086845-8f11-44be-97dd-998e32a47673"
      },
      "cell_type": "code",
      "source": [
        "cd watson-beat "
      ],
      "execution_count": 2,
      "outputs": [
        {
          "output_type": "stream",
          "text": [
            "/content/watson-beat\n"
          ],
          "name": "stdout"
        }
      ]
    },
    {
      "metadata": {
        "id": "noDtFjYniYS5",
        "colab_type": "code",
        "colab": {
          "base_uri": "https://localhost:8080/",
          "height": 275
        },
        "outputId": "50349993-704f-4181-ad16-a0098a774b6b"
      },
      "cell_type": "code",
      "source": [
        "!pip install -r requirements.txt"
      ],
      "execution_count": 3,
      "outputs": [
        {
          "output_type": "stream",
          "text": [
            "Requirement already satisfied: numpy in /usr/local/lib/python2.7/dist-packages (from -r requirements.txt (line 1)) (1.16.2)\n",
            "Collecting python-midi (from -r requirements.txt (line 2))\n",
            "  Using cached https://files.pythonhosted.org/packages/8d/e1/fd34aa05508d907449fb2d66a679d4f98eeeacdb4b3c7e6af87d91c4fa21/python-midi-v0.2.4.tar.gz\n",
            "Requirement already satisfied: requests in /usr/local/lib/python2.7/dist-packages (from -r requirements.txt (line 3)) (2.18.4)\n",
            "Requirement already satisfied: idna<2.7,>=2.5 in /usr/local/lib/python2.7/dist-packages (from requests->-r requirements.txt (line 3)) (2.6)\n",
            "Requirement already satisfied: urllib3<1.23,>=1.21.1 in /usr/local/lib/python2.7/dist-packages (from requests->-r requirements.txt (line 3)) (1.22)\n",
            "Requirement already satisfied: certifi>=2017.4.17 in /usr/local/lib/python2.7/dist-packages (from requests->-r requirements.txt (line 3)) (2019.3.9)\n",
            "Requirement already satisfied: chardet<3.1.0,>=3.0.2 in /usr/local/lib/python2.7/dist-packages (from requests->-r requirements.txt (line 3)) (3.0.4)\n",
            "Building wheels for collected packages: python-midi\n",
            "  Building wheel for python-midi (setup.py) ... \u001b[?25ldone\n",
            "\u001b[?25h  Stored in directory: /root/.cache/pip/wheels/98/7a/2d/25a0047a3aac9bfa40e897f8ff565a1f0f2aab2eb2232ca4df\n",
            "Successfully built python-midi\n",
            "Installing collected packages: python-midi\n",
            "Successfully installed python-midi-0.2.4\n"
          ],
          "name": "stdout"
        }
      ]
    },
    {
      "metadata": {
        "id": "3zRMKg5YiaYs",
        "colab_type": "code",
        "colab": {
          "base_uri": "https://localhost:8080/",
          "height": 34
        },
        "outputId": "3ce45b34-59d9-41e6-eaae-139ff3413f27"
      },
      "cell_type": "code",
      "source": [
        "cd .."
      ],
      "execution_count": 5,
      "outputs": [
        {
          "output_type": "stream",
          "text": [
            "/content\n"
          ],
          "name": "stdout"
        }
      ]
    },
    {
      "metadata": {
        "id": "_xmSgJvUj86Z",
        "colab_type": "code",
        "colab": {
          "base_uri": "https://localhost:8080/",
          "height": 34
        },
        "outputId": "b0e3256d-5557-4233-d413-ad16906ef0d9"
      },
      "cell_type": "code",
      "source": [
        "ls"
      ],
      "execution_count": 6,
      "outputs": [
        {
          "output_type": "stream",
          "text": [
            "\u001b[0m\u001b[01;34msample_data\u001b[0m/  \u001b[01;34mwatson-beat\u001b[0m/\n"
          ],
          "name": "stdout"
        }
      ]
    },
    {
      "metadata": {
        "id": "gzVZeIcXj_SO",
        "colab_type": "code",
        "colab": {}
      },
      "cell_type": "code",
      "source": [
        "rm -rf watson-beat"
      ],
      "execution_count": 0,
      "outputs": []
    },
    {
      "metadata": {
        "id": "ed8vptDEkBN8",
        "colab_type": "code",
        "colab": {
          "base_uri": "https://localhost:8080/",
          "height": 34
        },
        "outputId": "094a7fc7-119f-45dd-94c4-13a4f70b9da7"
      },
      "cell_type": "code",
      "source": [
        "ls"
      ],
      "execution_count": 8,
      "outputs": [
        {
          "output_type": "stream",
          "text": [
            "\u001b[0m\u001b[01;34msample_data\u001b[0m/\n"
          ],
          "name": "stdout"
        }
      ]
    },
    {
      "metadata": {
        "id": "lsz4PZOekCjg",
        "colab_type": "code",
        "colab": {
          "base_uri": "https://localhost:8080/",
          "height": 136
        },
        "outputId": "3eecaf1d-e62d-4ff1-af20-b6662ca58c83"
      },
      "cell_type": "code",
      "source": [
        "!git clone https://github.com/TheChanRProject/watson-beat.git"
      ],
      "execution_count": 9,
      "outputs": [
        {
          "output_type": "stream",
          "text": [
            "Cloning into 'watson-beat'...\n",
            "remote: Enumerating objects: 5, done.\u001b[K\n",
            "remote: Counting objects: 100% (5/5), done.\u001b[K\n",
            "remote: Compressing objects: 100% (5/5), done.\u001b[K\n",
            "remote: Total 159 (delta 0), reused 1 (delta 0), pack-reused 154\u001b[K\n",
            "Receiving objects: 100% (159/159), 215.80 KiB | 5.99 MiB/s, done.\n",
            "Resolving deltas: 100% (49/49), done.\n"
          ],
          "name": "stdout"
        }
      ]
    },
    {
      "metadata": {
        "id": "2B4IFUtekIC6",
        "colab_type": "code",
        "colab": {
          "base_uri": "https://localhost:8080/",
          "height": 34
        },
        "outputId": "67d9feb0-6a0c-4b64-fa26-5bdb5b6dc36b"
      },
      "cell_type": "code",
      "source": [
        "cd watson-beat"
      ],
      "execution_count": 10,
      "outputs": [
        {
          "output_type": "stream",
          "text": [
            "/content/watson-beat\n"
          ],
          "name": "stdout"
        }
      ]
    },
    {
      "metadata": {
        "id": "8WgrDbDNkJ-n",
        "colab_type": "code",
        "colab": {
          "base_uri": "https://localhost:8080/",
          "height": 68
        },
        "outputId": "f6286b0c-3253-49c0-e95f-bcc6c950313a"
      },
      "cell_type": "code",
      "source": [
        "ls"
      ],
      "execution_count": 11,
      "outputs": [
        {
          "output_type": "stream",
          "text": [
            "customize_ini.md  moods.md          \u001b[0m\u001b[01;34msrc\u001b[0m/\n",
            "initial_setup.md  README.md         Tracks_Inspired_by_WatsonBeat.md\n",
            "LICENSE.txt       requirements.txt  Watson_Beat_collaborations.pdf\n"
          ],
          "name": "stdout"
        }
      ]
    },
    {
      "metadata": {
        "id": "uagYUshQkK39",
        "colab_type": "code",
        "colab": {
          "base_uri": "https://localhost:8080/",
          "height": 34
        },
        "outputId": "f6e48d89-c854-4e21-943d-43ee82fef600"
      },
      "cell_type": "code",
      "source": [
        "cd src"
      ],
      "execution_count": 12,
      "outputs": [
        {
          "output_type": "stream",
          "text": [
            "/content/watson-beat/src\n"
          ],
          "name": "stdout"
        }
      ]
    },
    {
      "metadata": {
        "id": "Vp_4okDXlUJv",
        "colab_type": "code",
        "colab": {
          "base_uri": "https://localhost:8080/",
          "height": 51
        },
        "outputId": "ece5f8b7-9e81-48d0-9c21-5c888a9dc254"
      },
      "cell_type": "code",
      "source": [
        "ls"
      ],
      "execution_count": 13,
      "outputs": [
        {
          "output_type": "stream",
          "text": [
            "\u001b[0m\u001b[01;34mArranging\u001b[0m/  \u001b[01;34mIni\u001b[0m/   mididump.py  \u001b[01;34mPercussions\u001b[0m/  \u001b[01;34mSkeleton\u001b[0m/\n",
            "\u001b[01;34mDevServer\u001b[0m/  \u001b[01;34mMidi\u001b[0m/  \u001b[01;34mMoods\u001b[0m/       \u001b[01;34mRL\u001b[0m/           wbDev.py\n"
          ],
          "name": "stdout"
        }
      ]
    },
    {
      "metadata": {
        "id": "ZlS8BAU8l17G",
        "colab_type": "code",
        "colab": {}
      },
      "cell_type": "code",
      "source": [
        "mkdir Outputs"
      ],
      "execution_count": 0,
      "outputs": []
    },
    {
      "metadata": {
        "id": "oSKfIIWvlU7F",
        "colab_type": "code",
        "colab": {
          "base_uri": "https://localhost:8080/",
          "height": 9081
        },
        "outputId": "b2d9fb8f-1707-4eff-a3ca-18cbdbdd9285"
      },
      "cell_type": "code",
      "source": [
        "!python wbDev.py -i Ini/Chill.ini -m Midi/entertainer.mid -o Outputs "
      ],
      "execution_count": 16,
      "outputs": [
        {
          "output_type": "stream",
          "text": [
            "iniFile          = 'Ini/Chill.ini'\n",
            "midiFile         = 'Midi/entertainer.mid'\n",
            "outputDir        = 'Outputs'\n",
            "Num Movements:  1\n",
            "TSE:  4/4\n",
            "Duration Choices In Measures:  [4, 8, 10]\n",
            "TSE:  4/4\n",
            "Duration Choices In Measures:  [8, 4]\n",
            "TSE:  4/4\n",
            "Duration Choices In Measures:  [8]\n",
            "TSE:  4/4\n",
            "Duration Choices In Measures:  [4, 6, 8]\n",
            "TSE:  4/4\n",
            "BPM:  121\n",
            "KEY:  EMinor\n",
            "PL :  4\n",
            "possible BPMs:  [114, 115, 116, 117, 118, 119, 120, 121, 122, 123] iniBPM:  -1\n",
            "SecId:  0 Chosen BPM:  115 TSE:  4/4 numSecondsForSection:  16.6956521739 numSecondsPerMeasure:  2.08695652174 numMeasures:  8 PL:  4 num seconds per phrase:  8.34782608696 num Phrases:  2\n",
            "\n",
            "possible BPMs:  [114, 115, 116, 117, 118, 119, 120, 121, 122, 123] iniBPM:  -1\n",
            "SecId:  1 Chosen BPM:  115 TSE:  4/4 numSecondsForSection:  16.6956521739 numSecondsPerMeasure:  2.08695652174 numMeasures:  8 PL:  4 num seconds per phrase:  8.34782608696 num Phrases:  2\n",
            "\n",
            "possible BPMs:  [114, 115, 116, 117, 118, 119, 120, 121, 122, 123] iniBPM:  -1\n",
            "SecId:  2 Chosen BPM:  115 TSE:  4/4 numSecondsForSection:  16.6956521739 numSecondsPerMeasure:  2.08695652174 numMeasures:  8 PL:  4 num seconds per phrase:  8.34782608696 num Phrases:  2\n",
            "\n",
            "possible BPMs:  [114, 115, 116, 117, 118, 119, 120, 121, 122, 123] iniBPM:  -1\n",
            "SecId:  3 Chosen BPM:  115 TSE:  4/4 numSecondsForSection:  8.34782608696 numSecondsPerMeasure:  2.08695652174 numMeasures:  4 PL:  4 num seconds per phrase:  8.34782608696 num Phrases:  1\n",
            "\n",
            "Min Uniq Ids:  1 Max Uniq Ids:  7 Unused Ids:  [1, 2, 3, 4, 5, 6]\n",
            "secId:  0 UniqId:  0 Unused Ids:  [1, 2, 3, 4, 5, 6]\n",
            "secId:  1 UniqId:  1 Unused Ids:  [2, 3, 4, 5, 6]\n",
            "secId:  2 UniqId:  2 Unused Ids:  [3, 4, 5, 6]\n",
            "secId:  3 UniqId:  3 Unused Ids:  [4, 5, 6]\n",
            "Num Uniq CPs:  4\n",
            "UniqId:  0 Tse:  4/4\n",
            "UniqId:  1 Tse:  4/4\n",
            "UniqId:  2 Tse:  4/4\n",
            "UniqId:  3 Tse:  4/4\n",
            "Id 0 startMNum:  1 endMNum:  8 Mel Id:  0\n",
            "Id 1 startMNum:  9 endMNum:  16 Mel Id:  1\n",
            "Id 2 startMNum:  17 endMNum:  24 Mel Id:  2\n",
            "Id 3 startMNum:  25 endMNum:  28 Mel Id:  3\n",
            "NumChords:  4\n",
            "NumChords:  4\n",
            "Chord Progression Sequence found in try number:  230  Sequence :  [1920, 1920, 1920, 1920]\n",
            "NumChords:  4\n",
            "NumChords:  4\n",
            "Chord Progression Sequence found in try number:  155  Sequence :  [1920, 1920, 1920, 1920]\n",
            "NumChords:  4\n",
            "NumChords:  4\n",
            "Chord Progression Sequence found in try number:  28  Sequence :  [1920, 1920, 1920, 1920]\n",
            "NumChords:  4\n",
            "NumChords:  4\n",
            "Chord Progression Sequence found in try number:  25  Sequence :  [1920, 1920, 1920, 1920]\n",
            "\n",
            "Section settings: Id:  0 Energy:  high Direction:  down Slope:  steep\n",
            "Must Have layer:  rightPiano\n",
            "Must Have layer:  drumsKit\n",
            "Must Have layer:  bass3\n",
            "Must Have layer:  brassRhythms\n",
            "Must Have layer:  mel5\n",
            "\n",
            "\n",
            "Current number of layers:  8 max layers:  11 min Layers:  8\n",
            "\n",
            "Initial. Section id:  0 Energy:  high Direction:  down slope:  steep Slope Multiplier:  2 AddLayers:  -1 Final Adder:  -2 curr density:  8\n",
            "Energy:  high Num Layers:  8\n",
            "\n",
            "Previous Layers:  [] prev Density:  0\n",
            "Current  Layers:  ['drumsKit', 'rightPiano', 'bass3', 'brassRhythms', 'mel5', 'hiStrings', 'rightPiano2', 'bass1'] current Density:  8\n",
            "Energy:  high Num Layers:  8\n",
            "\n",
            "Previous Layers:  ['drumsKit', 'rightPiano', 'bass3', 'brassRhythms', 'mel5', 'hiStrings', 'rightPiano2', 'bass1'] prev Density:  8\n",
            "Current  Layers:  ['drumsKit', 'brassRhythms', 'rightPiano2', 'hiStrings', 'mel5', 'bass3', 'bass1', 'rightPiano'] current Density:  8\n",
            "Energy:  high Num Layers:  8\n",
            "\n",
            "Previous Layers:  ['drumsKit', 'brassRhythms', 'rightPiano2', 'hiStrings', 'mel5', 'bass3', 'bass1', 'rightPiano'] prev Density:  8\n",
            "Current  Layers:  ['drumsKit', 'brassRhythms', 'rightPiano2', 'hiStrings', 'mel5', 'bass3', 'bass1', 'rightPiano'] current Density:  8\n",
            "\n",
            "XXXXXXXXXXXXXXXXXXXXXXXXXXXXXXX End Section:  0    XXXXXXXXXXXXXXXXXXXXXXXXXXXXXXX\n",
            "\n",
            "Section settings: Id:  1 Energy:  medium Direction:  up Slope:  steep\n",
            "Must Have layer:  drumsKit\n",
            "Must Have layer:  bass3\n",
            "Must Have layer:  brassRhythms\n",
            "Must Have layer:  mel5\n",
            "\n",
            "\n",
            "Current number of layers:  6 max layers:  7 min Layers:  5\n",
            "\n",
            "Initial. Section id:  1 Energy:  medium Direction:  up slope:  steep Slope Multiplier:  2 AddLayers:  1 Final Adder:  2 curr density:  6\n",
            "Energy:  medium Num Layers:  6\n",
            "\n",
            "Previous Layers:  [] prev Density:  0\n",
            "Current  Layers:  ['drumsKit', 'bass3', 'brassRhythms', 'mel5', 'rhythmChords', 'midStrings'] current Density:  6\n",
            "Energy:  medium Num Layers:  7\n",
            "\n",
            "Previous Layers:  ['drumsKit', 'bass3', 'brassRhythms', 'mel5', 'rhythmChords', 'midStrings'] prev Density:  6\n",
            "Current  Layers:  ['drumsKit', 'brassRhythms', 'mel5', 'bass3', 'midStrings', 'rhythmChords', 'rightPiano'] current Density:  7\n",
            "Energy:  medium Num Layers:  7\n",
            "\n",
            "Previous Layers:  ['drumsKit', 'brassRhythms', 'mel5', 'bass3', 'midStrings', 'rhythmChords', 'rightPiano'] prev Density:  7\n",
            "Current  Layers:  ['drumsKit', 'brassRhythms', 'mel5', 'bass3', 'midStrings', 'rightPiano', 'rhythmChords'] current Density:  7\n",
            "\n",
            "XXXXXXXXXXXXXXXXXXXXXXXXXXXXXXX End Section:  1    XXXXXXXXXXXXXXXXXXXXXXXXXXXXXXX\n",
            "\n",
            "Section settings: Id:  2 Energy:  high Direction:  down Slope:  steep\n",
            "Must Have layer:  bass3\n",
            "\n",
            "Must Not Have layer:  bass3\n",
            "Must Not Have layer:  drumsKit\n",
            "Must Not Have layer:  rightPiano\n",
            "Must Not Have layer:  brassRhythms\n",
            "\n",
            "Current number of layers:  7 max layers:  11 min Layers:  8\n",
            "\n",
            "Initial. Section id:  2 Energy:  high Direction:  down slope:  steep Slope Multiplier:  2 AddLayers:  -1 Final Adder:  -2 curr density:  7\n",
            "Energy:  high Num Layers:  7\n",
            "\n",
            "Previous Layers:  [] prev Density:  0\n",
            "Current  Layers:  ['rhythmChords', 'bass2', 'arpStrings', 'bass1', 'mel5', 'rightPiano2', 'hiStrings'] current Density:  7\n",
            "Energy:  high Num Layers:  8\n",
            "\n",
            "Previous Layers:  ['rhythmChords', 'bass2', 'arpStrings', 'bass1', 'mel5', 'rightPiano2', 'hiStrings'] prev Density:  7\n",
            "Current  Layers:  ['rightPiano2', 'arpStrings', 'hiStrings', 'mel5', 'bass2', 'bass1', 'rhythmChords', 'midStrings'] current Density:  8\n",
            "Energy:  high Num Layers:  8\n",
            "\n",
            "Previous Layers:  ['rightPiano2', 'arpStrings', 'hiStrings', 'mel5', 'bass2', 'bass1', 'rhythmChords', 'midStrings'] prev Density:  8\n",
            "Current  Layers:  ['rightPiano2', 'hiStrings', 'mel5', 'bass2', 'bass1', 'midStrings', 'arpStrings', 'rhythmChords'] current Density:  8\n",
            "\n",
            "XXXXXXXXXXXXXXXXXXXXXXXXXXXXXXX End Section:  2    XXXXXXXXXXXXXXXXXXXXXXXXXXXXXXX\n",
            "\n",
            "Section settings: Id:  3 Energy:  high Direction:  up Slope:  steep\n",
            "Must Have layer:  rightPiano\n",
            "Must Have layer:  drumsKit\n",
            "Must Have layer:  bass3\n",
            "\n",
            "Must Not Have layer:  brassRhythms\n",
            "\n",
            "Current number of layers:  9 max layers:  11 min Layers:  8\n",
            "\n",
            "Initial. Section id:  3 Energy:  high Direction:  up slope:  steep Slope Multiplier:  2 AddLayers:  1 Final Adder:  2 curr density:  9\n",
            "Energy:  high Num Layers:  9\n",
            "\n",
            "Previous Layers:  [] prev Density:  0\n",
            "Current  Layers:  ['drumsKit', 'rightPiano', 'bass3', 'mel5', 'rightPiano2', 'bass1', 'midStrings', 'hiStrings', 'arpStrings'] current Density:  9\n",
            "Energy:  high Num Layers:  11\n",
            "\n",
            "Previous Layers:  ['drumsKit', 'rightPiano', 'bass3', 'mel5', 'rightPiano2', 'bass1', 'midStrings', 'hiStrings', 'arpStrings'] prev Density:  9\n",
            "Current  Layers:  ['drumsKit', 'rightPiano2', 'hiStrings', 'mel5', 'bass3', 'bass1', 'midStrings', 'rightPiano', 'arpStrings', 'rhythmChords', 'bass2'] current Density:  11\n",
            "\n",
            "XXXXXXXXXXXXXXXXXXXXXXXXXXXXXXX End Section:  3    XXXXXXXXXXXXXXXXXXXXXXXXXXXXXXX\n",
            "\n",
            "Arrangement for Movement\n",
            "Section:  0 Uniq Mel Id:  0 startingMnum:  1 endMNum:  8 tse:  4/4\n",
            "\tPhrase:  1 {'layers': ['drumsKit', 'brassRhythms', 'rightPiano2', 'hiStrings', 'mel5', 'bass3', 'bass1', 'rightPiano'], 'startMNum': 1, 'density': 8, 'globalEndTick': 7680, 'globalStartTick': 0, 'endMNum': 4}\n",
            "\t\tChord:  0 {'layers': ['drumsKit', 'rightPiano', 'bass3', 'brassRhythms', 'mel5', 'hiStrings', 'rightPiano2', 'bass1'], 'globalStartTick': 0, 'density': 8, 'globalEndTick': 1920, 'startTick': 0, 'duration': 1920, 'endTick': 1920}\n",
            "\t\tChord:  1 {'layers': ['drumsKit', 'rightPiano', 'bass3', 'brassRhythms', 'mel5', 'hiStrings', 'rightPiano2', 'bass1'], 'globalStartTick': 1920, 'density': 8, 'globalEndTick': 3840, 'startTick': 1920, 'duration': 1920, 'endTick': 3840}\n",
            "\t\tChord:  2 {'layers': ['drumsKit', 'rightPiano', 'bass3', 'brassRhythms', 'mel5', 'hiStrings', 'rightPiano2', 'bass1'], 'globalStartTick': 3840, 'density': 8, 'globalEndTick': 5760, 'startTick': 3840, 'duration': 1920, 'endTick': 5760}\n",
            "\t\tChord:  3 {'layers': ['drumsKit', 'rightPiano', 'bass3', 'brassRhythms', 'mel5', 'hiStrings', 'rightPiano2', 'bass1'], 'globalStartTick': 5760, 'density': 8, 'globalEndTick': 7680, 'startTick': 5760, 'duration': 1920, 'endTick': 7680}\n",
            "\tPhrase:  2 {'layers': ['drumsKit', 'brassRhythms', 'rightPiano2', 'hiStrings', 'mel5', 'bass3', 'bass1', 'rightPiano'], 'startMNum': 5, 'density': 8, 'globalEndTick': 15360, 'globalStartTick': 7680, 'endMNum': 8}\n",
            "\t\tChord:  4 {'layers': ['drumsKit', 'brassRhythms', 'rightPiano2', 'hiStrings', 'mel5', 'bass3', 'bass1', 'rightPiano'], 'globalStartTick': 7680, 'density': 8, 'globalEndTick': 9600, 'startTick': 7680, 'duration': 1920, 'endTick': 9600}\n",
            "\t\tChord:  5 {'layers': ['drumsKit', 'brassRhythms', 'rightPiano2', 'hiStrings', 'mel5', 'bass3', 'bass1', 'rightPiano'], 'globalStartTick': 9600, 'density': 8, 'globalEndTick': 11520, 'startTick': 9600, 'duration': 1920, 'endTick': 11520}\n",
            "\t\tChord:  6 {'layers': ['drumsKit', 'brassRhythms', 'rightPiano2', 'hiStrings', 'mel5', 'bass3', 'bass1', 'rightPiano'], 'globalStartTick': 11520, 'density': 8, 'globalEndTick': 13440, 'startTick': 11520, 'duration': 1920, 'endTick': 13440}\n",
            "\t\tChord:  7 {'layers': ['drumsKit', 'brassRhythms', 'rightPiano2', 'hiStrings', 'mel5', 'bass3', 'bass1', 'rightPiano'], 'globalStartTick': 13440, 'density': 8, 'globalEndTick': 15360, 'startTick': 13440, 'duration': 1920, 'endTick': 15360}\n",
            "\n",
            "Section:  1 Uniq Mel Id:  1 startingMnum:  9 endMNum:  16 tse:  4/4\n",
            "\tPhrase:  1 {'layers': ['drumsKit', 'brassRhythms', 'mel5', 'bass3', 'midStrings', 'rhythmChords'], 'startMNum': 9, 'density': 6, 'globalEndTick': 23040, 'globalStartTick': 15360, 'endMNum': 12}\n",
            "\t\tChord:  0 {'layers': ['drumsKit', 'bass3', 'brassRhythms', 'mel5', 'rhythmChords', 'midStrings'], 'globalStartTick': 15360, 'density': 6, 'globalEndTick': 17280, 'startTick': 0, 'duration': 1920, 'endTick': 1920}\n",
            "\t\tChord:  1 {'layers': ['drumsKit', 'bass3', 'brassRhythms', 'mel5', 'rhythmChords', 'midStrings'], 'globalStartTick': 17280, 'density': 6, 'globalEndTick': 19200, 'startTick': 1920, 'duration': 1920, 'endTick': 3840}\n",
            "\t\tChord:  2 {'layers': ['drumsKit', 'bass3', 'brassRhythms', 'mel5', 'rhythmChords', 'midStrings'], 'globalStartTick': 19200, 'density': 6, 'globalEndTick': 21120, 'startTick': 3840, 'duration': 1920, 'endTick': 5760}\n",
            "\t\tChord:  3 {'layers': ['drumsKit', 'bass3', 'brassRhythms', 'mel5', 'rhythmChords', 'midStrings'], 'globalStartTick': 21120, 'density': 6, 'globalEndTick': 23040, 'startTick': 5760, 'duration': 1920, 'endTick': 7680}\n",
            "\tPhrase:  2 {'layers': ['drumsKit', 'brassRhythms', 'mel5', 'bass3', 'midStrings', 'rightPiano', 'rhythmChords'], 'startMNum': 13, 'density': 7, 'globalEndTick': 30720, 'globalStartTick': 23040, 'endMNum': 16}\n",
            "\t\tChord:  4 {'layers': ['drumsKit', 'brassRhythms', 'mel5', 'bass3', 'midStrings', 'rhythmChords', 'rightPiano'], 'globalStartTick': 23040, 'density': 7, 'globalEndTick': 24960, 'startTick': 7680, 'duration': 1920, 'endTick': 9600}\n",
            "\t\tChord:  5 {'layers': ['drumsKit', 'brassRhythms', 'mel5', 'bass3', 'midStrings', 'rhythmChords', 'rightPiano'], 'globalStartTick': 24960, 'density': 7, 'globalEndTick': 26880, 'startTick': 9600, 'duration': 1920, 'endTick': 11520}\n",
            "\t\tChord:  6 {'layers': ['drumsKit', 'brassRhythms', 'mel5', 'bass3', 'midStrings', 'rhythmChords', 'rightPiano'], 'globalStartTick': 26880, 'density': 7, 'globalEndTick': 28800, 'startTick': 11520, 'duration': 1920, 'endTick': 13440}\n",
            "\t\tChord:  7 {'layers': ['drumsKit', 'brassRhythms', 'mel5', 'bass3', 'midStrings', 'rhythmChords', 'rightPiano'], 'globalStartTick': 28800, 'density': 7, 'globalEndTick': 30720, 'startTick': 13440, 'duration': 1920, 'endTick': 15360}\n",
            "\n",
            "Section:  2 Uniq Mel Id:  2 startingMnum:  17 endMNum:  24 tse:  4/4\n",
            "\tPhrase:  1 {'layers': ['rightPiano2', 'arpStrings', 'hiStrings', 'mel5', 'bass2', 'bass1', 'rhythmChords'], 'startMNum': 17, 'density': 7, 'globalEndTick': 38400, 'globalStartTick': 30720, 'endMNum': 20}\n",
            "\t\tChord:  0 {'layers': ['rhythmChords', 'bass2', 'arpStrings', 'bass1', 'mel5', 'rightPiano2', 'hiStrings'], 'globalStartTick': 30720, 'density': 7, 'globalEndTick': 32640, 'startTick': 0, 'duration': 1920, 'endTick': 1920}\n",
            "\t\tChord:  1 {'layers': ['rhythmChords', 'bass2', 'arpStrings', 'bass1', 'mel5', 'rightPiano2', 'hiStrings'], 'globalStartTick': 32640, 'density': 7, 'globalEndTick': 34560, 'startTick': 1920, 'duration': 1920, 'endTick': 3840}\n",
            "\t\tChord:  2 {'layers': ['rhythmChords', 'bass2', 'arpStrings', 'bass1', 'mel5', 'rightPiano2', 'hiStrings'], 'globalStartTick': 34560, 'density': 7, 'globalEndTick': 36480, 'startTick': 3840, 'duration': 1920, 'endTick': 5760}\n",
            "\t\tChord:  3 {'layers': ['rhythmChords', 'bass2', 'arpStrings', 'bass1', 'mel5', 'rightPiano2', 'hiStrings'], 'globalStartTick': 36480, 'density': 7, 'globalEndTick': 38400, 'startTick': 5760, 'duration': 1920, 'endTick': 7680}\n",
            "\tPhrase:  2 {'layers': ['rightPiano2', 'hiStrings', 'mel5', 'bass2', 'bass1', 'midStrings', 'arpStrings', 'rhythmChords'], 'startMNum': 21, 'density': 8, 'globalEndTick': 46080, 'globalStartTick': 38400, 'endMNum': 24}\n",
            "\t\tChord:  4 {'layers': ['rightPiano2', 'arpStrings', 'hiStrings', 'mel5', 'bass2', 'bass1', 'rhythmChords', 'midStrings'], 'globalStartTick': 38400, 'density': 8, 'globalEndTick': 40320, 'startTick': 7680, 'duration': 1920, 'endTick': 9600}\n",
            "\t\tChord:  5 {'layers': ['rightPiano2', 'arpStrings', 'hiStrings', 'mel5', 'bass2', 'bass1', 'rhythmChords', 'midStrings'], 'globalStartTick': 40320, 'density': 8, 'globalEndTick': 42240, 'startTick': 9600, 'duration': 1920, 'endTick': 11520}\n",
            "\t\tChord:  6 {'layers': ['rightPiano2', 'arpStrings', 'hiStrings', 'mel5', 'bass2', 'bass1', 'rhythmChords', 'midStrings'], 'globalStartTick': 42240, 'density': 8, 'globalEndTick': 44160, 'startTick': 11520, 'duration': 1920, 'endTick': 13440}\n",
            "\t\tChord:  7 {'layers': ['rightPiano2', 'arpStrings', 'hiStrings', 'mel5', 'bass2', 'bass1', 'rhythmChords', 'midStrings'], 'globalStartTick': 44160, 'density': 8, 'globalEndTick': 46080, 'startTick': 13440, 'duration': 1920, 'endTick': 15360}\n",
            "\n",
            "Section:  3 Uniq Mel Id:  3 startingMnum:  25 endMNum:  28 tse:  4/4\n",
            "\tPhrase:  1 {'layers': ['drumsKit', 'rightPiano2', 'hiStrings', 'mel5', 'bass3', 'bass1', 'midStrings', 'rightPiano', 'arpStrings'], 'startMNum': 25, 'density': 9, 'globalEndTick': 53760, 'globalStartTick': 46080, 'endMNum': 28}\n",
            "\t\tChord:  0 {'layers': ['drumsKit', 'rightPiano', 'bass3', 'mel5', 'rightPiano2', 'bass1', 'midStrings', 'hiStrings', 'arpStrings'], 'globalStartTick': 46080, 'density': 9, 'globalEndTick': 48000, 'startTick': 0, 'duration': 1920, 'endTick': 1920}\n",
            "\t\tChord:  1 {'layers': ['drumsKit', 'rightPiano', 'bass3', 'mel5', 'rightPiano2', 'bass1', 'midStrings', 'hiStrings', 'arpStrings'], 'globalStartTick': 48000, 'density': 9, 'globalEndTick': 49920, 'startTick': 1920, 'duration': 1920, 'endTick': 3840}\n",
            "\t\tChord:  2 {'layers': ['drumsKit', 'rightPiano', 'bass3', 'mel5', 'rightPiano2', 'bass1', 'midStrings', 'hiStrings', 'arpStrings'], 'globalStartTick': 49920, 'density': 9, 'globalEndTick': 51840, 'startTick': 3840, 'duration': 1920, 'endTick': 5760}\n",
            "\t\tChord:  3 {'layers': ['drumsKit', 'rightPiano', 'bass3', 'mel5', 'rightPiano2', 'bass1', 'midStrings', 'hiStrings', 'arpStrings'], 'globalStartTick': 51840, 'density': 9, 'globalEndTick': 53760, 'startTick': 5760, 'duration': 1920, 'endTick': 7680}\n",
            "\n",
            "numUniqCPs:  4\n",
            "\n",
            "-------------------------------- DJ MEL Starts --------------------------------------\n",
            "\n",
            "Mididump Command:  python mididump.py Midi/entertainer.mid  > midi_export.mid.dump\n",
            "\n",
            "-------------------------------- DJ MEL Starts --------------------------------------\n",
            "\n",
            "Mididump Command:  python mididump.py Midi/entertainer.mid  > midi_export.mid.dump\n",
            "\n",
            "-------------------------------- DJ MEL Starts --------------------------------------\n",
            "\n",
            "Mididump Command:  python mididump.py Midi/entertainer.mid  > midi_export.mid.dump\n",
            "\n",
            "-------------------------------- DJ MEL Starts --------------------------------------\n",
            "\n",
            "Mididump Command:  python mididump.py Midi/entertainer.mid  > midi_export.mid.dump\n",
            "Dev Server Movement :  0 Uniq Id:  1\n",
            "\tlayer:  bass1\n",
            "\t\tChord Id:  0\n",
            "\t\t\t {'chord': u'EMinor', 'notes': ['E'], 'penalty': 6, 'duration': [1920], 'scale': u'EMinor', 'action': 'PLAY_CHORD_PROGRESSION_TONE_FOR_PRIMARY_KEY'}\n",
            "\t\tChord Id:  1\n",
            "\t\t\t {'chord': 'Bm7', 'notes': ['B'], 'penalty': 32, 'duration': [1920], 'scale': 'EMinor', 'action': 'PLAY_CHORD_PROGRESSION_TONE_SML_JUMP'}\n",
            "\t\tChord Id:  2\n",
            "\t\t\t {'chord': 'FsMinor', 'notes': ['Fs'], 'penalty': 33, 'duration': [1920], 'scale': 'BMinor', 'action': 'PLAY_CHORD_PROGRESSION_TONE_SML_JUMP'}\n",
            "\t\tChord Id:  3\n",
            "\t\t\t {'chord': 'FsMinor', 'notes': ['Fs'], 'penalty': 37, 'duration': [1920], 'scale': 'FsMinor', 'action': 'PLAY_CHORD_PROGRESSION_TONE_SML_JUMP'}\n",
            "\n",
            "\tlayer:  mel5\n",
            "\t\tChord Id:  0\n",
            "\t\t\t {'chordId': 0, 'chord': u'EMinor', 'scale': u'EMinor', 'Clk': [0, 204], 'duration': [204], 'velocity': [75], 'notes': ['B'], 'pitches': [83]}\n",
            "\t\t\t {'chord': u'EMinor', 'Clk': [204, 240], 'notes': ['B'], 'pitches': [83], 'chordId': 0, 'scale': u'EMinor', 'duration': [36], 'velocity': [0]}\n",
            "\t\t\t {'chordId': 0, 'chord': u'EMinor', 'scale': u'EMinor', 'Clk': [240, 427], 'duration': [187], 'velocity': [57], 'notes': ['G'], 'pitches': [79]}\n",
            "\t\t\t {'chord': u'EMinor', 'Clk': [427, 480], 'notes': ['G'], 'pitches': [79], 'chordId': 0, 'scale': u'EMinor', 'duration': [53], 'velocity': [0]}\n",
            "\t\t\t {'chordId': 0, 'chord': u'EMinor', 'scale': u'EMinor', 'Clk': [480, 684], 'duration': [204], 'velocity': [63], 'notes': ['E'], 'pitches': [76]}\n",
            "\t\t\t {'chord': u'EMinor', 'Clk': [684, 720], 'notes': ['E'], 'pitches': [76], 'chordId': 0, 'scale': u'EMinor', 'duration': [36], 'velocity': [0]}\n",
            "\t\t\t {'chord': u'EMinor', 'Clk': [720, 960], 'notes': ['B'], 'pitches': [83], 'chordId': 0, 'scale': u'EMinor', 'duration': [240], 'velocity': [76]}\n",
            "\t\t\t {'chordId': 0, 'chord': u'EMinor', 'scale': u'EMinor', 'Clk': [960, 1409], 'duration': [449], 'velocity': [76], 'notes': ['C'], 'pitches': [84]}\n",
            "\t\t\t {'chord': u'EMinor', 'Clk': [1409, 1440], 'notes': ['C'], 'pitches': [84], 'chordId': 0, 'scale': u'EMinor', 'duration': [31], 'velocity': [0]}\n",
            "\t\t\t {'chordId': 0, 'chord': u'EMinor', 'scale': u'EMinor', 'Clk': [1440, 1644], 'duration': [204], 'velocity': [62], 'notes': ['C'], 'pitches': [84]}\n",
            "\t\t\t {'chord': u'EMinor', 'Clk': [1644, 1680], 'notes': ['C'], 'pitches': [84], 'chordId': 0, 'scale': u'EMinor', 'duration': [36], 'velocity': [0]}\n",
            "\t\t\t {'chordId': 0, 'chord': u'EMinor', 'scale': u'EMinor', 'Clk': [1680, 2129], 'duration': [449], 'velocity': [77], 'notes': ['C'], 'pitches': [84]}\n",
            "\t\t\t {'chord': u'EMinor', 'Clk': [2129, 2160], 'notes': ['C'], 'pitches': [84], 'chordId': 0, 'scale': u'EMinor', 'duration': [31], 'velocity': [0]}\n",
            "\t\tChord Id:  1\n",
            "\t\t\t {'chordId': 1, 'chord': 'Bm7', 'scale': 'EMinor', 'Clk': [2160, 2364], 'duration': [204], 'velocity': [56], 'notes': ['B'], 'pitches': [83]}\n",
            "\t\t\t {'chord': 'Bm7', 'Clk': [2364, 2400], 'notes': ['B'], 'pitches': [83], 'chordId': 1, 'scale': 'EMinor', 'duration': [36], 'velocity': [0]}\n",
            "\t\t\t {'chordId': 1, 'chord': 'Bm7', 'scale': 'EMinor', 'Clk': [2400, 3487], 'duration': [1087], 'velocity': [73], 'notes': ['E'], 'pitches': [76]}\n",
            "\t\t\t {'chord': 'Bm7', 'Clk': [3487, 3600], 'notes': ['E'], 'pitches': [76], 'chordId': 1, 'scale': 'EMinor', 'duration': [113], 'velocity': [0]}\n",
            "\t\t\t {'chordId': 1, 'chord': 'Bm7', 'scale': 'EMinor', 'Clk': [3600, 3804], 'duration': [204], 'velocity': [51], 'notes': ['A'], 'pitches': [81]}\n",
            "\t\t\t {'chord': 'Bm7', 'Clk': [3804, 3840], 'notes': ['A'], 'pitches': [81], 'chordId': 1, 'scale': 'EMinor', 'duration': [36], 'velocity': [0]}\n",
            "\t\tChord Id:  2\n",
            "\t\t\t {'chordId': 2, 'chord': 'FsMinor', 'scale': 'FsMinor', 'Clk': [3840, 4044], 'duration': [204], 'velocity': [69], 'notes': ['Fs'], 'pitches': [78]}\n",
            "\t\t\t {'chord': 'FsMinor', 'Clk': [4044, 4080], 'notes': ['Fs'], 'pitches': [78], 'chordId': 2, 'scale': 'FsMinor', 'duration': [36], 'velocity': [0]}\n",
            "\t\t\t {'chordId': 2, 'chord': 'FsMinor', 'scale': 'FsMinor', 'Clk': [4080, 4284], 'duration': [204], 'velocity': [58], 'notes': ['Fs'], 'pitches': [78]}\n",
            "\t\t\t {'chord': 'FsMinor', 'Clk': [4284, 4320], 'notes': ['Fs'], 'pitches': [78], 'chordId': 2, 'scale': 'FsMinor', 'duration': [36], 'velocity': [0]}\n",
            "\t\t\t {'chordId': 2, 'chord': 'FsMinor', 'scale': 'FsMinor', 'Clk': [4320, 4524], 'duration': [204], 'velocity': [69], 'notes': ['A'], 'pitches': [81]}\n",
            "\t\t\t {'chord': 'FsMinor', 'Clk': [4524, 4560], 'notes': ['A'], 'pitches': [81], 'chordId': 2, 'scale': 'FsMinor', 'duration': [36], 'velocity': [0]}\n",
            "\t\t\t {'chord': 'FsMinor', 'Clk': [4560, 4800], 'notes': ['Fs'], 'pitches': [78], 'chordId': 2, 'scale': 'FsMinor', 'duration': [240], 'velocity': [74]}\n",
            "\t\t\t {'chordId': 2, 'chord': 'FsMinor', 'scale': 'FsMinor', 'Clk': [4800, 5004], 'duration': [204], 'velocity': [74], 'notes': ['Cs'], 'pitches': [73]}\n",
            "\t\t\t {'chord': 'FsMinor', 'Clk': [5004, 5040], 'notes': ['Cs'], 'pitches': [73], 'chordId': 2, 'scale': 'FsMinor', 'duration': [36], 'velocity': [0]}\n",
            "\t\t\t {'chord': 'FsMinor', 'Clk': [5040, 5280], 'notes': ['Fs'], 'pitches': [78], 'chordId': 2, 'scale': 'FsMinor', 'duration': [240], 'velocity': [51]}\n",
            "\t\t\t {'chordId': 2, 'chord': 'FsMinor', 'scale': 'FsMinor', 'Clk': [5280, 5484], 'duration': [204], 'velocity': [51], 'notes': ['A'], 'pitches': [81]}\n",
            "\t\t\t {'chord': 'FsMinor', 'Clk': [5484, 5520], 'notes': ['A'], 'pitches': [81], 'chordId': 2, 'scale': 'FsMinor', 'duration': [36], 'velocity': [0]}\n",
            "\t\t\t {'chordId': 2, 'chord': 'FsMinor', 'scale': 'FsMinor', 'Clk': [5520, 5969], 'duration': [449], 'velocity': [78], 'notes': ['Cs'], 'pitches': [85]}\n",
            "\t\t\t {'chord': 'FsMinor', 'Clk': [5969, 6000], 'notes': ['Cs'], 'pitches': [85], 'chordId': 2, 'scale': 'FsMinor', 'duration': [31], 'velocity': [0]}\n",
            "\t\t\t {'chordId': 2, 'chord': 'FsMinor', 'scale': 'FsMinor', 'Clk': [6000, 6204], 'duration': [204], 'velocity': [56], 'notes': ['B'], 'pitches': [83]}\n",
            "\t\t\t {'chord': 'FsMinor', 'Clk': [6204, 6240], 'notes': ['B'], 'pitches': [83], 'chordId': 2, 'scale': 'FsMinor', 'duration': [36], 'velocity': [0]}\n",
            "\t\tChord Id:  3\n",
            "\t\t\t {'chordId': 3, 'chord': 'FsMinor', 'scale': 'FsMinor', 'Clk': [6240, 6689], 'duration': [449], 'velocity': [64], 'notes': ['A'], 'pitches': [81]}\n",
            "\t\t\t {'chord': 'FsMinor', 'Clk': [6689, 6720], 'notes': ['A'], 'pitches': [81], 'chordId': 3, 'scale': 'FsMinor', 'duration': [31], 'velocity': [0]}\n",
            "\t\t\t {'chord': 'FsMinor', 'Clk': [6720, 6960], 'notes': ['Fs'], 'pitches': [78], 'chordId': 3, 'scale': 'FsMinor', 'duration': [240], 'velocity': [69]}\n",
            "\t\t\t {'chordId': 3, 'chord': 'FsMinor', 'scale': 'FsMinor', 'Clk': [6960, 7567], 'duration': [607], 'velocity': [69], 'notes': ['Cs'], 'pitches': [73]}\n",
            "\t\t\t {'chord': 'FsMinor', 'Clk': [7567, 7680], 'notes': ['Cs'], 'pitches': [73], 'chordId': 3, 'scale': 'FsMinor', 'duration': [113], 'velocity': [0]}\n",
            "\n",
            "\n",
            "Dev Server Movement :  0 Uniq Id:  0\n",
            "\tlayer:  bass1\n",
            "\t\tChord Id:  0\n",
            "\t\t\t {'chord': u'EMinor', 'notes': ['E'], 'penalty': 6, 'duration': [1920], 'scale': u'EMinor', 'action': 'PLAY_CHORD_PROGRESSION_TONE_FOR_PRIMARY_KEY'}\n",
            "\t\tChord Id:  1\n",
            "\t\t\t {'chord': 'C7', 'notes': ['C'], 'penalty': 32, 'duration': [1920], 'scale': 'EMinor', 'action': 'PLAY_CHORD_PROGRESSION_TONE_SML_JUMP'}\n",
            "\t\tChord Id:  2\n",
            "\t\t\t {'chord': 'FMaj7', 'notes': ['F'], 'penalty': 32, 'duration': [1920], 'scale': 'CMajor', 'action': 'PLAY_CHORD_PROGRESSION_TONE_SML_JUMP'}\n",
            "\t\tChord Id:  3\n",
            "\t\t\t {'chord': 'DMinor', 'notes': ['D'], 'penalty': 35, 'duration': [1920], 'scale': 'FMajor', 'action': 'PLAY_CHORD_PROGRESSION_TONE_SML_JUMP'}\n",
            "\n",
            "\tlayer:  mel5\n",
            "\t\tChord Id:  0\n",
            "\t\t\t {'chordId': 0, 'chord': u'EMinor', 'scale': u'EMinor', 'Clk': [0, 204], 'duration': [204], 'velocity': [58], 'notes': ['G'], 'pitches': [67]}\n",
            "\t\t\t {'chord': u'EMinor', 'Clk': [204, 240], 'notes': ['G'], 'pitches': [67], 'chordId': 0, 'scale': u'EMinor', 'duration': [36], 'velocity': [0]}\n",
            "\t\t\t {'chordId': 0, 'chord': u'EMinor', 'scale': u'EMinor', 'Clk': [240, 427], 'duration': [187], 'velocity': [54], 'notes': ['E'], 'pitches': [64]}\n",
            "\t\t\t {'chord': u'EMinor', 'Clk': [427, 480], 'notes': ['E'], 'pitches': [64], 'chordId': 0, 'scale': u'EMinor', 'duration': [53], 'velocity': [0]}\n",
            "\t\t\t {'chordId': 0, 'chord': u'EMinor', 'scale': u'EMinor', 'Clk': [480, 684], 'duration': [204], 'velocity': [52], 'notes': ['E'], 'pitches': [64]}\n",
            "\t\t\t {'chord': u'EMinor', 'Clk': [684, 720], 'notes': ['E'], 'pitches': [64], 'chordId': 0, 'scale': u'EMinor', 'duration': [36], 'velocity': [0]}\n",
            "\t\t\t {'chordId': 0, 'chord': u'EMinor', 'scale': u'EMinor', 'Clk': [720, 1169], 'duration': [449], 'velocity': [79], 'notes': ['D'], 'pitches': [62]}\n",
            "\t\t\t {'chord': u'EMinor', 'Clk': [1169, 1200], 'notes': ['D'], 'pitches': [62], 'chordId': 0, 'scale': u'EMinor', 'duration': [31], 'velocity': [0]}\n",
            "\t\t\t {'chordId': 0, 'chord': u'EMinor', 'scale': u'EMinor', 'Clk': [1200, 1404], 'duration': [204], 'velocity': [57], 'notes': ['E'], 'pitches': [64]}\n",
            "\t\t\t {'chord': u'EMinor', 'Clk': [1404, 1440], 'notes': ['E'], 'pitches': [64], 'chordId': 0, 'scale': u'EMinor', 'duration': [36], 'velocity': [0]}\n",
            "\t\t\t {'chordId': 0, 'chord': u'EMinor', 'scale': u'EMinor', 'Clk': [1440, 1889], 'duration': [449], 'velocity': [53], 'notes': ['B'], 'pitches': [71]}\n",
            "\t\t\t {'chord': u'EMinor', 'Clk': [1889, 1920], 'notes': ['B'], 'pitches': [71], 'chordId': 0, 'scale': u'EMinor', 'duration': [31], 'velocity': [0]}\n",
            "\t\tChord Id:  1\n",
            "\t\t\t {'chordId': 1, 'chord': 'C7', 'scale': 'EMinor', 'Clk': [1920, 2124], 'duration': [204], 'velocity': [72], 'notes': ['G'], 'pitches': [67]}\n",
            "\t\t\t {'chord': 'C7', 'Clk': [2124, 2160], 'notes': ['G'], 'pitches': [67], 'chordId': 1, 'scale': 'EMinor', 'duration': [36], 'velocity': [0]}\n",
            "\t\t\t {'chordId': 1, 'chord': 'C7', 'scale': 'EMinor', 'Clk': [2160, 3487], 'duration': [1327], 'velocity': [76], 'notes': ['C'], 'pitches': [72]}\n",
            "\t\t\t {'chord': 'C7', 'Clk': [3487, 3600], 'notes': ['C'], 'pitches': [72], 'chordId': 1, 'scale': 'EMinor', 'duration': [113], 'velocity': [0]}\n",
            "\t\t\t {'chordId': 1, 'chord': 'C7', 'scale': 'EMinor', 'Clk': [3600, 3804], 'duration': [204], 'velocity': [67], 'notes': ['D'], 'pitches': [74]}\n",
            "\t\t\t {'chord': 'C7', 'Clk': [3804, 3840], 'notes': ['D'], 'pitches': [74], 'chordId': 1, 'scale': 'EMinor', 'duration': [36], 'velocity': [0]}\n",
            "\t\tChord Id:  2\n",
            "\t\t\t {'chordId': 2, 'chord': 'FMaj7', 'scale': 'CMajor', 'Clk': [3840, 4044], 'duration': [204], 'velocity': [79], 'notes': ['C'], 'pitches': [72]}\n",
            "\t\t\t {'chord': 'FMaj7', 'Clk': [4044, 4080], 'notes': ['C'], 'pitches': [72], 'chordId': 2, 'scale': 'CMajor', 'duration': [36], 'velocity': [0]}\n",
            "\t\t\t {'chordId': 2, 'chord': 'FMaj7', 'scale': 'CMajor', 'Clk': [4080, 4284], 'duration': [204], 'velocity': [66], 'notes': ['E'], 'pitches': [76]}\n",
            "\t\t\t {'chord': 'FMaj7', 'Clk': [4284, 4320], 'notes': ['E'], 'pitches': [76], 'chordId': 2, 'scale': 'CMajor', 'duration': [36], 'velocity': [0]}\n",
            "\t\t\t {'chordId': 2, 'chord': 'FMaj7', 'scale': 'CMajor', 'Clk': [4320, 4524], 'duration': [204], 'velocity': [55], 'notes': ['C'], 'pitches': [72]}\n",
            "\t\t\t {'chord': 'FMaj7', 'Clk': [4524, 4560], 'notes': ['C'], 'pitches': [72], 'chordId': 2, 'scale': 'CMajor', 'duration': [36], 'velocity': [0]}\n",
            "\t\t\t {'chordId': 2, 'chord': 'FMaj7', 'scale': 'CMajor', 'Clk': [4560, 4764], 'duration': [204], 'velocity': [66], 'notes': ['C'], 'pitches': [72]}\n",
            "\t\t\t {'chord': 'FMaj7', 'Clk': [4764, 4800], 'notes': ['C'], 'pitches': [72], 'chordId': 2, 'scale': 'CMajor', 'duration': [36], 'velocity': [0]}\n",
            "\t\t\t {'chordId': 2, 'chord': 'FMaj7', 'scale': 'CMajor', 'Clk': [4800, 5004], 'duration': [204], 'velocity': [79], 'notes': ['D'], 'pitches': [74]}\n",
            "\t\t\t {'chord': 'FMaj7', 'Clk': [5004, 5040], 'notes': ['D'], 'pitches': [74], 'chordId': 2, 'scale': 'CMajor', 'duration': [36], 'velocity': [0]}\n",
            "\t\t\t {'chordId': 2, 'chord': 'FMaj7', 'scale': 'CMajor', 'Clk': [5040, 5489], 'duration': [449], 'velocity': [67], 'notes': ['G'], 'pitches': [67]}\n",
            "\t\t\t {'chord': 'FMaj7', 'Clk': [5489, 5520], 'notes': ['G'], 'pitches': [67], 'chordId': 2, 'scale': 'CMajor', 'duration': [31], 'velocity': [0]}\n",
            "\t\t\t {'chordId': 2, 'chord': 'FMaj7', 'scale': 'CMajor', 'Clk': [5520, 5724], 'duration': [204], 'velocity': [79], 'notes': ['E'], 'pitches': [64]}\n",
            "\t\t\t {'chord': 'FMaj7', 'Clk': [5724, 5760], 'notes': ['E'], 'pitches': [64], 'chordId': 2, 'scale': 'CMajor', 'duration': [36], 'velocity': [0]}\n",
            "\t\tChord Id:  3\n",
            "\t\t\t {'chordId': 3, 'chord': 'DMinor', 'scale': 'DMinor', 'Clk': [5760, 6209], 'duration': [449], 'velocity': [52], 'notes': ['A'], 'pitches': [69]}\n",
            "\t\t\t {'chord': 'DMinor', 'Clk': [6209, 6240], 'notes': ['A'], 'pitches': [69], 'chordId': 3, 'scale': 'DMinor', 'duration': [31], 'velocity': [0]}\n",
            "\t\t\t {'chordId': 3, 'chord': 'DMinor', 'scale': 'DMinor', 'Clk': [6240, 7567], 'duration': [1327], 'velocity': [77], 'notes': ['A'], 'pitches': [69]}\n",
            "\t\t\t {'chord': 'DMinor', 'Clk': [7567, 7680], 'notes': ['A'], 'pitches': [69], 'chordId': 3, 'scale': 'DMinor', 'duration': [113], 'velocity': [0]}\n",
            "\n",
            "\n",
            "Dev Server Movement :  0 Uniq Id:  3\n",
            "\tlayer:  bass1\n",
            "\t\tChord Id:  0\n",
            "\t\t\t {'chord': u'EMinor', 'notes': ['E'], 'penalty': 6, 'duration': [1920], 'scale': u'EMinor', 'action': 'PLAY_CHORD_PROGRESSION_TONE_FOR_PRIMARY_KEY'}\n",
            "\t\tChord Id:  1\n",
            "\t\t\t {'chord': 'BMinor', 'notes': ['B'], 'penalty': 32, 'duration': [1920], 'scale': 'EMinor', 'action': 'PLAY_CHORD_PROGRESSION_TONE_SML_JUMP'}\n",
            "\t\tChord Id:  2\n",
            "\t\t\t {'chord': 'E7', 'notes': ['E'], 'penalty': 31, 'duration': [1920], 'scale': 'EMajor', 'action': 'PLAY_CHORD_PROGRESSION_TONE_SML_JUMP'}\n",
            "\t\tChord Id:  3\n",
            "\t\t\t {'chord': 'AMaj7', 'notes': ['A'], 'penalty': 32, 'duration': [1920], 'scale': 'EMajor', 'action': 'PLAY_CHORD_PROGRESSION_TONE_SML_JUMP'}\n",
            "\n",
            "\tlayer:  mel5\n",
            "\t\tChord Id:  0\n",
            "\t\t\t {'chordId': 0, 'chord': u'EMinor', 'scale': u'EMinor', 'Clk': [0, 204], 'duration': [204], 'velocity': [56], 'notes': ['B'], 'pitches': [71]}\n",
            "\t\t\t {'chord': u'EMinor', 'Clk': [204, 240], 'notes': ['B'], 'pitches': [71], 'chordId': 0, 'scale': u'EMinor', 'duration': [36], 'velocity': [0]}\n",
            "\t\t\t {'chordId': 0, 'chord': u'EMinor', 'scale': u'EMinor', 'Clk': [240, 427], 'duration': [187], 'velocity': [52], 'notes': ['E'], 'pitches': [64]}\n",
            "\t\t\t {'chord': u'EMinor', 'Clk': [427, 480], 'notes': ['E'], 'pitches': [64], 'chordId': 0, 'scale': u'EMinor', 'duration': [53], 'velocity': [0]}\n",
            "\t\t\t {'chordId': 0, 'chord': u'EMinor', 'scale': u'EMinor', 'Clk': [480, 684], 'duration': [204], 'velocity': [59], 'notes': ['A'], 'pitches': [69]}\n",
            "\t\t\t {'chord': u'EMinor', 'Clk': [684, 720], 'notes': ['A'], 'pitches': [69], 'chordId': 0, 'scale': u'EMinor', 'duration': [36], 'velocity': [0]}\n",
            "\t\t\t {'chordId': 0, 'chord': u'EMinor', 'scale': u'EMinor', 'Clk': [720, 1169], 'duration': [449], 'velocity': [73], 'notes': ['C'], 'pitches': [72]}\n",
            "\t\t\t {'chord': u'EMinor', 'Clk': [1169, 1200], 'notes': ['C'], 'pitches': [72], 'chordId': 0, 'scale': u'EMinor', 'duration': [31], 'velocity': [0]}\n",
            "\t\t\t {'chord': u'EMinor', 'Clk': [1200, 1440], 'notes': ['G'], 'pitches': [67], 'chordId': 0, 'scale': u'EMinor', 'duration': [240], 'velocity': [73]}\n",
            "\t\t\t {'chordId': 0, 'chord': u'EMinor', 'scale': u'EMinor', 'Clk': [1440, 1644], 'duration': [204], 'velocity': [73], 'notes': ['E'], 'pitches': [64]}\n",
            "\t\t\t {'chord': u'EMinor', 'Clk': [1644, 1680], 'notes': ['E'], 'pitches': [64], 'chordId': 0, 'scale': u'EMinor', 'duration': [36], 'velocity': [0]}\n",
            "\t\t\t {'chordId': 0, 'chord': u'EMinor', 'scale': u'EMinor', 'Clk': [1680, 2129], 'duration': [449], 'velocity': [63], 'notes': ['B'], 'pitches': [71]}\n",
            "\t\t\t {'chord': u'EMinor', 'Clk': [2129, 2160], 'notes': ['B'], 'pitches': [71], 'chordId': 0, 'scale': u'EMinor', 'duration': [31], 'velocity': [0]}\n",
            "\t\tChord Id:  1\n",
            "\t\t\t {'chordId': 1, 'chord': 'BMinor', 'scale': 'BMinor', 'Clk': [2160, 2364], 'duration': [204], 'velocity': [60], 'notes': ['B'], 'pitches': [71]}\n",
            "\t\t\t {'chord': 'BMinor', 'Clk': [2364, 2400], 'notes': ['B'], 'pitches': [71], 'chordId': 1, 'scale': 'BMinor', 'duration': [36], 'velocity': [0]}\n",
            "\t\t\t {'chordId': 1, 'chord': 'BMinor', 'scale': 'BMinor', 'Clk': [2400, 3487], 'duration': [1087], 'velocity': [65], 'notes': ['B'], 'pitches': [71]}\n",
            "\t\t\t {'chord': 'BMinor', 'Clk': [3487, 3600], 'notes': ['B'], 'pitches': [71], 'chordId': 1, 'scale': 'BMinor', 'duration': [113], 'velocity': [0]}\n",
            "\t\t\t {'chordId': 1, 'chord': 'BMinor', 'scale': 'BMinor', 'Clk': [3600, 3804], 'duration': [204], 'velocity': [64], 'notes': ['Cs'], 'pitches': [73]}\n",
            "\t\t\t {'chord': 'BMinor', 'Clk': [3804, 3840], 'notes': ['Cs'], 'pitches': [73], 'chordId': 1, 'scale': 'BMinor', 'duration': [36], 'velocity': [0]}\n",
            "\t\tChord Id:  2\n",
            "\t\t\t {'chordId': 2, 'chord': 'E7', 'scale': 'EMajor', 'Clk': [3840, 4044], 'duration': [204], 'velocity': [57], 'notes': ['E'], 'pitches': [76]}\n",
            "\t\t\t {'chord': 'E7', 'Clk': [4044, 4080], 'notes': ['E'], 'pitches': [76], 'chordId': 2, 'scale': 'EMajor', 'duration': [36], 'velocity': [0]}\n",
            "\t\t\t {'chordId': 2, 'chord': 'E7', 'scale': 'EMajor', 'Clk': [4080, 4284], 'duration': [204], 'velocity': [69], 'notes': ['B'], 'pitches': [71]}\n",
            "\t\t\t {'chord': 'E7', 'Clk': [4284, 4320], 'notes': ['B'], 'pitches': [71], 'chordId': 2, 'scale': 'EMajor', 'duration': [36], 'velocity': [0]}\n",
            "\t\t\t {'chordId': 2, 'chord': 'E7', 'scale': 'EMajor', 'Clk': [4320, 4524], 'duration': [204], 'velocity': [79], 'notes': ['E'], 'pitches': [76]}\n",
            "\t\t\t {'chord': 'E7', 'Clk': [4524, 4560], 'notes': ['E'], 'pitches': [76], 'chordId': 2, 'scale': 'EMajor', 'duration': [36], 'velocity': [0]}\n",
            "\t\t\t {'chordId': 2, 'chord': 'E7', 'scale': 'EMajor', 'Clk': [4560, 4764], 'duration': [204], 'velocity': [78], 'notes': ['Cs'], 'pitches': [73]}\n",
            "\t\t\t {'chord': 'E7', 'Clk': [4764, 4800], 'notes': ['Cs'], 'pitches': [73], 'chordId': 2, 'scale': 'EMajor', 'duration': [36], 'velocity': [0]}\n",
            "\t\t\t {'chordId': 2, 'chord': 'E7', 'scale': 'EMajor', 'Clk': [4800, 5004], 'duration': [204], 'velocity': [76], 'notes': ['Gs'], 'pitches': [80]}\n",
            "\t\t\t {'chord': 'E7', 'Clk': [5004, 5040], 'notes': ['Gs'], 'pitches': [80], 'chordId': 2, 'scale': 'EMajor', 'duration': [36], 'velocity': [0]}\n",
            "\t\t\t {'chordId': 2, 'chord': 'E7', 'scale': 'EMajor', 'Clk': [5040, 5489], 'duration': [449], 'velocity': [64], 'notes': ['E'], 'pitches': [76]}\n",
            "\t\t\t {'chord': 'E7', 'Clk': [5489, 5520], 'notes': ['E'], 'pitches': [76], 'chordId': 2, 'scale': 'EMajor', 'duration': [31], 'velocity': [0]}\n",
            "\t\t\t {'chordId': 2, 'chord': 'E7', 'scale': 'EMajor', 'Clk': [5520, 5724], 'duration': [204], 'velocity': [71], 'notes': ['B'], 'pitches': [71]}\n",
            "\t\t\t {'chord': 'E7', 'Clk': [5724, 5760], 'notes': ['B'], 'pitches': [71], 'chordId': 2, 'scale': 'EMajor', 'duration': [36], 'velocity': [0]}\n",
            "\t\tChord Id:  3\n",
            "\t\t\t {'chordId': 3, 'chord': 'AMaj7', 'scale': 'EMajor', 'Clk': [5760, 6209], 'duration': [449], 'velocity': [69], 'notes': ['Gs'], 'pitches': [68]}\n",
            "\t\t\t {'chord': 'AMaj7', 'Clk': [6209, 6240], 'notes': ['Gs'], 'pitches': [68], 'chordId': 3, 'scale': 'EMajor', 'duration': [31], 'velocity': [0]}\n",
            "\t\t\t {'chordId': 3, 'chord': 'AMaj7', 'scale': 'EMajor', 'Clk': [6240, 7567], 'duration': [1327], 'velocity': [55], 'notes': ['Cs'], 'pitches': [73]}\n",
            "\t\t\t {'chord': 'AMaj7', 'Clk': [7567, 7680], 'notes': ['Cs'], 'pitches': [73], 'chordId': 3, 'scale': 'EMajor', 'duration': [113], 'velocity': [0]}\n",
            "\n",
            "\n",
            "Dev Server Movement :  0 Uniq Id:  2\n",
            "\tlayer:  bass1\n",
            "\t\tChord Id:  0\n",
            "\t\t\t {'chord': u'EMinor', 'notes': ['E'], 'penalty': 6, 'duration': [1920], 'scale': u'EMinor', 'action': 'PLAY_CHORD_PROGRESSION_TONE_FOR_PRIMARY_KEY'}\n",
            "\t\tChord Id:  1\n",
            "\t\t\t {'chord': 'G7', 'notes': ['G'], 'penalty': 32, 'duration': [1920], 'scale': 'EMinor', 'action': 'PLAY_CHORD_PROGRESSION_TONE_SML_JUMP'}\n",
            "\t\tChord Id:  2\n",
            "\t\t\t {'chord': 'G7', 'notes': ['G'], 'penalty': 38, 'duration': [1920], 'scale': 'GMajor', 'action': 'PLAY_CHORD_PROGRESSION_TONE_SML_JUMP'}\n",
            "\t\tChord Id:  3\n",
            "\t\t\t {'chord': 'GMaj7', 'notes': ['G'], 'penalty': 32, 'duration': [1920], 'scale': 'GMajor', 'action': 'PLAY_CHORD_PROGRESSION_TONE_SML_JUMP'}\n",
            "\n",
            "\tlayer:  mel5\n",
            "\t\tChord Id:  0\n",
            "\t\t\t {'chordId': 0, 'chord': u'EMinor', 'scale': u'EMinor', 'Clk': [0, 204], 'duration': [204], 'velocity': [67], 'notes': ['G'], 'pitches': [79]}\n",
            "\t\t\t {'chord': u'EMinor', 'Clk': [204, 240], 'notes': ['G'], 'pitches': [79], 'chordId': 0, 'scale': u'EMinor', 'duration': [36], 'velocity': [0]}\n",
            "\t\t\t {'chordId': 0, 'chord': u'EMinor', 'scale': u'EMinor', 'Clk': [240, 427], 'duration': [187], 'velocity': [70], 'notes': ['C'], 'pitches': [72]}\n",
            "\t\t\t {'chord': u'EMinor', 'Clk': [427, 480], 'notes': ['C'], 'pitches': [72], 'chordId': 0, 'scale': u'EMinor', 'duration': [53], 'velocity': [0]}\n",
            "\t\t\t {'chordId': 0, 'chord': u'EMinor', 'scale': u'EMinor', 'Clk': [480, 684], 'duration': [204], 'velocity': [58], 'notes': ['E'], 'pitches': [76]}\n",
            "\t\t\t {'chord': u'EMinor', 'Clk': [684, 720], 'notes': ['E'], 'pitches': [76], 'chordId': 0, 'scale': u'EMinor', 'duration': [36], 'velocity': [0]}\n",
            "\t\t\t {'chordId': 0, 'chord': u'EMinor', 'scale': u'EMinor', 'Clk': [720, 1169], 'duration': [449], 'velocity': [68], 'notes': ['A'], 'pitches': [81]}\n",
            "\t\t\t {'chord': u'EMinor', 'Clk': [1169, 1200], 'notes': ['A'], 'pitches': [81], 'chordId': 0, 'scale': u'EMinor', 'duration': [31], 'velocity': [0]}\n",
            "\t\t\t {'chordId': 0, 'chord': u'EMinor', 'scale': u'EMinor', 'Clk': [1200, 1404], 'duration': [204], 'velocity': [77], 'notes': ['Fs'], 'pitches': [78]}\n",
            "\t\t\t {'chord': u'EMinor', 'Clk': [1404, 1440], 'notes': ['Fs'], 'pitches': [78], 'chordId': 0, 'scale': u'EMinor', 'duration': [36], 'velocity': [0]}\n",
            "\t\t\t {'chordId': 0, 'chord': u'EMinor', 'scale': u'EMinor', 'Clk': [1440, 1889], 'duration': [449], 'velocity': [69], 'notes': ['A'], 'pitches': [81]}\n",
            "\t\t\t {'chord': u'EMinor', 'Clk': [1889, 1920], 'notes': ['A'], 'pitches': [81], 'chordId': 0, 'scale': u'EMinor', 'duration': [31], 'velocity': [0]}\n",
            "\t\tChord Id:  1\n",
            "\t\t\t {'chordId': 1, 'chord': 'G7', 'scale': 'EMinor', 'Clk': [1920, 2124], 'duration': [204], 'velocity': [80], 'notes': ['E'], 'pitches': [76]}\n",
            "\t\t\t {'chord': 'G7', 'Clk': [2124, 2160], 'notes': ['E'], 'pitches': [76], 'chordId': 1, 'scale': 'EMinor', 'duration': [36], 'velocity': [0]}\n",
            "\t\t\t {'chord': 'G7', 'Clk': [2160, 2280], 'notes': ['B'], 'pitches': [83], 'chordId': 1, 'scale': 'EMinor', 'duration': [120], 'velocity': [70]}\n",
            "\t\t\t {'chordId': 1, 'chord': 'G7', 'scale': 'EMinor', 'Clk': [2280, 3487], 'duration': [1207], 'velocity': [70], 'notes': ['C'], 'pitches': [84]}\n",
            "\t\t\t {'chord': 'G7', 'Clk': [3487, 3600], 'notes': ['C'], 'pitches': [84], 'chordId': 1, 'scale': 'EMinor', 'duration': [113], 'velocity': [0]}\n",
            "\t\t\t {'chordId': 1, 'chord': 'G7', 'scale': 'EMinor', 'Clk': [3600, 3804], 'duration': [204], 'velocity': [78], 'notes': ['A'], 'pitches': [81]}\n",
            "\t\t\t {'chord': 'G7', 'Clk': [3804, 3840], 'notes': ['A'], 'pitches': [81], 'chordId': 1, 'scale': 'EMinor', 'duration': [36], 'velocity': [0]}\n",
            "\t\tChord Id:  2\n",
            "\t\t\t {'chordId': 2, 'chord': 'G7', 'scale': 'GMajor', 'Clk': [3840, 4044], 'duration': [204], 'velocity': [62], 'notes': ['G'], 'pitches': [79]}\n",
            "\t\t\t {'chord': 'G7', 'Clk': [4044, 4080], 'notes': ['G'], 'pitches': [79], 'chordId': 2, 'scale': 'GMajor', 'duration': [36], 'velocity': [0]}\n",
            "\t\t\t {'chordId': 2, 'chord': 'G7', 'scale': 'GMajor', 'Clk': [4080, 4284], 'duration': [204], 'velocity': [75], 'notes': ['E'], 'pitches': [76]}\n",
            "\t\t\t {'chord': 'G7', 'Clk': [4284, 4320], 'notes': ['E'], 'pitches': [76], 'chordId': 2, 'scale': 'GMajor', 'duration': [36], 'velocity': [0]}\n",
            "\t\t\t {'chordId': 2, 'chord': 'G7', 'scale': 'GMajor', 'Clk': [4320, 4524], 'duration': [204], 'velocity': [51], 'notes': ['B'], 'pitches': [83]}\n",
            "\t\t\t {'chord': 'G7', 'Clk': [4524, 4560], 'notes': ['B'], 'pitches': [83], 'chordId': 2, 'scale': 'GMajor', 'duration': [36], 'velocity': [0]}\n",
            "\t\t\t {'chordId': 2, 'chord': 'G7', 'scale': 'GMajor', 'Clk': [4560, 4764], 'duration': [204], 'velocity': [71], 'notes': ['C'], 'pitches': [84]}\n",
            "\t\t\t {'chord': 'G7', 'Clk': [4764, 4800], 'notes': ['C'], 'pitches': [84], 'chordId': 2, 'scale': 'GMajor', 'duration': [36], 'velocity': [0]}\n",
            "\t\t\t {'chordId': 2, 'chord': 'G7', 'scale': 'GMajor', 'Clk': [4800, 5004], 'duration': [204], 'velocity': [52], 'notes': ['D'], 'pitches': [86]}\n",
            "\t\t\t {'chord': 'G7', 'Clk': [5004, 5040], 'notes': ['D'], 'pitches': [86], 'chordId': 2, 'scale': 'GMajor', 'duration': [36], 'velocity': [0]}\n",
            "\t\t\t {'chordId': 2, 'chord': 'G7', 'scale': 'GMajor', 'Clk': [5040, 5489], 'duration': [449], 'velocity': [50], 'notes': ['E'], 'pitches': [88]}\n",
            "\t\t\t {'chord': 'G7', 'Clk': [5489, 5520], 'notes': ['E'], 'pitches': [88], 'chordId': 2, 'scale': 'GMajor', 'duration': [31], 'velocity': [0]}\n",
            "\t\t\t {'chord': 'G7', 'Clk': [5520, 5640], 'notes': ['B'], 'pitches': [83], 'chordId': 2, 'scale': 'GMajor', 'duration': [120], 'velocity': [78]}\n",
            "\t\t\t {'chordId': 2, 'chord': 'G7', 'scale': 'GMajor', 'Clk': [5640, 5844], 'duration': [204], 'velocity': [78], 'notes': ['G'], 'pitches': [79]}\n",
            "\t\t\t {'chord': 'G7', 'Clk': [5844, 5880], 'notes': ['G'], 'pitches': [79], 'chordId': 2, 'scale': 'GMajor', 'duration': [36], 'velocity': [0]}\n",
            "\t\tChord Id:  3\n",
            "\t\t\t {'chordId': 3, 'chord': 'GMaj7', 'scale': 'GMajor', 'Clk': [5880, 6209], 'duration': [329], 'velocity': [59], 'notes': ['G'], 'pitches': [79]}\n",
            "\t\t\t {'chord': 'GMaj7', 'Clk': [6209, 6240], 'notes': ['G'], 'pitches': [79], 'chordId': 3, 'scale': 'GMajor', 'duration': [31], 'velocity': [0]}\n",
            "\t\t\t {'chordId': 3, 'chord': 'GMaj7', 'scale': 'GMajor', 'Clk': [6240, 7567], 'duration': [1327], 'velocity': [61], 'notes': ['A'], 'pitches': [81]}\n",
            "\t\t\t {'chord': 'GMaj7', 'Clk': [7567, 7680], 'notes': ['A'], 'pitches': [81], 'chordId': 3, 'scale': 'GMajor', 'duration': [113], 'velocity': [0]}\n",
            "\n",
            "\n",
            "\n",
            "AT Client\n",
            "-------------------------------- BASS 2 Starts --------------------------------------\n",
            "\n",
            "\n",
            "-------------------------------- BASS 2 Ends --------------------------------------\n",
            "-------------------------------- BASS 3 Starts --------------------------------------\n",
            "\n",
            "\n",
            "-------------------------------- BASS 3 Ends --------------------------------------\n",
            "\n",
            "AT Client\n",
            "-------------------------------- BASS 2 Starts --------------------------------------\n",
            "\n",
            "\n",
            "-------------------------------- BASS 2 Ends --------------------------------------\n",
            "-------------------------------- BASS 3 Starts --------------------------------------\n",
            "\n",
            "\n",
            "-------------------------------- BASS 3 Ends --------------------------------------\n",
            "\n",
            "AT Client\n",
            "-------------------------------- BASS 2 Starts --------------------------------------\n",
            "\n",
            "\n",
            "-------------------------------- BASS 2 Ends --------------------------------------\n",
            "-------------------------------- BASS 3 Starts --------------------------------------\n",
            "\n",
            "\n",
            "-------------------------------- BASS 3 Ends --------------------------------------\n",
            "\n",
            "AT Client\n",
            "-------------------------------- BASS 2 Starts --------------------------------------\n",
            "\n",
            "\n",
            "-------------------------------- BASS 2 Ends --------------------------------------\n",
            "-------------------------------- BASS 3 Starts --------------------------------------\n",
            "\n",
            "\n",
            "-------------------------------- BASS 3 Ends --------------------------------------\n",
            "\n",
            "ArrangeSections.py\n",
            "Movement:  0 Mood:  chill Complexity:  super_simple Num Uniq Layers: 4\n",
            "\n",
            "Arrangement for Movement\n",
            "\tSection:  0 Uniq Mel Id:  0 Starting MNum:  1 Ending MNum:  8 TSE:  4/4\n",
            "\n",
            "\t\tPhrase:  1 {'layers': ['drumsKit', 'brassRhythms', 'rightPiano2', 'hiStrings', 'mel5', 'bass3', 'bass1', 'rightPiano'], 'startMNum': 1, 'density': 8, 'globalEndTick': 7680, 'globalStartTick': 0, 'endMNum': 4}\n",
            "\t\t\tChord:  0 {'layers': ['drumsKit', 'rightPiano', 'bass3', 'brassRhythms', 'mel5', 'hiStrings', 'rightPiano2', 'bass1'], 'globalStartTick': 0, 'density': 8, 'globalEndTick': 1920, 'startTick': 0, 'duration': 1920, 'endTick': 1920}\n",
            "\t\t\tChord:  1 {'layers': ['drumsKit', 'rightPiano', 'bass3', 'brassRhythms', 'mel5', 'hiStrings', 'rightPiano2', 'bass1'], 'globalStartTick': 1920, 'density': 8, 'globalEndTick': 3840, 'startTick': 1920, 'duration': 1920, 'endTick': 3840}\n",
            "\t\t\tChord:  2 {'layers': ['drumsKit', 'rightPiano', 'bass3', 'brassRhythms', 'mel5', 'hiStrings', 'rightPiano2', 'bass1'], 'globalStartTick': 3840, 'density': 8, 'globalEndTick': 5760, 'startTick': 3840, 'duration': 1920, 'endTick': 5760}\n",
            "\t\t\tChord:  3 {'layers': ['drumsKit', 'rightPiano', 'bass3', 'brassRhythms', 'mel5', 'hiStrings', 'rightPiano2', 'bass1'], 'globalStartTick': 5760, 'density': 8, 'globalEndTick': 7680, 'startTick': 5760, 'duration': 1920, 'endTick': 7680}\n",
            "\n",
            "\t\tPhrase:  2 {'layers': ['drumsKit', 'brassRhythms', 'rightPiano2', 'hiStrings', 'mel5', 'bass3', 'bass1', 'rightPiano'], 'startMNum': 5, 'density': 8, 'globalEndTick': 15360, 'globalStartTick': 7680, 'endMNum': 8}\n",
            "\t\t\tChord:  4 {'layers': ['drumsKit', 'brassRhythms', 'rightPiano2', 'hiStrings', 'mel5', 'bass3', 'bass1', 'rightPiano'], 'globalStartTick': 7680, 'density': 8, 'globalEndTick': 9600, 'startTick': 7680, 'duration': 1920, 'endTick': 9600}\n",
            "\t\t\tChord:  5 {'layers': ['drumsKit', 'brassRhythms', 'rightPiano2', 'hiStrings', 'mel5', 'bass3', 'bass1', 'rightPiano'], 'globalStartTick': 9600, 'density': 8, 'globalEndTick': 11520, 'startTick': 9600, 'duration': 1920, 'endTick': 11520}\n",
            "\t\t\tChord:  6 {'layers': ['drumsKit', 'brassRhythms', 'rightPiano2', 'hiStrings', 'mel5', 'bass3', 'bass1', 'rightPiano'], 'globalStartTick': 11520, 'density': 8, 'globalEndTick': 13440, 'startTick': 11520, 'duration': 1920, 'endTick': 13440}\n",
            "\t\t\tChord:  7 {'layers': ['drumsKit', 'brassRhythms', 'rightPiano2', 'hiStrings', 'mel5', 'bass3', 'bass1', 'rightPiano'], 'globalStartTick': 13440, 'density': 8, 'globalEndTick': 15360, 'startTick': 13440, 'duration': 1920, 'endTick': 15360}\n",
            "\n",
            "\tSection:  1 Uniq Mel Id:  1 Starting MNum:  9 Ending MNum:  16 TSE:  4/4\n",
            "\n",
            "\t\tPhrase:  1 {'layers': ['drumsKit', 'brassRhythms', 'mel5', 'bass3', 'midStrings', 'rhythmChords'], 'startMNum': 9, 'density': 6, 'globalEndTick': 23040, 'globalStartTick': 15360, 'endMNum': 12}\n",
            "\t\t\tChord:  0 {'layers': ['drumsKit', 'bass3', 'brassRhythms', 'mel5', 'rhythmChords', 'midStrings'], 'globalStartTick': 15360, 'density': 6, 'globalEndTick': 17280, 'startTick': 0, 'duration': 1920, 'endTick': 1920}\n",
            "\t\t\tChord:  1 {'layers': ['drumsKit', 'bass3', 'brassRhythms', 'mel5', 'rhythmChords', 'midStrings'], 'globalStartTick': 17280, 'density': 6, 'globalEndTick': 19200, 'startTick': 1920, 'duration': 1920, 'endTick': 3840}\n",
            "\t\t\tChord:  2 {'layers': ['drumsKit', 'bass3', 'brassRhythms', 'mel5', 'rhythmChords', 'midStrings'], 'globalStartTick': 19200, 'density': 6, 'globalEndTick': 21120, 'startTick': 3840, 'duration': 1920, 'endTick': 5760}\n",
            "\t\t\tChord:  3 {'layers': ['drumsKit', 'bass3', 'brassRhythms', 'mel5', 'rhythmChords', 'midStrings'], 'globalStartTick': 21120, 'density': 6, 'globalEndTick': 23040, 'startTick': 5760, 'duration': 1920, 'endTick': 7680}\n",
            "\n",
            "\t\tPhrase:  2 {'layers': ['drumsKit', 'brassRhythms', 'mel5', 'bass3', 'midStrings', 'rightPiano', 'rhythmChords'], 'startMNum': 13, 'density': 7, 'globalEndTick': 30720, 'globalStartTick': 23040, 'endMNum': 16}\n",
            "\t\t\tChord:  4 {'layers': ['drumsKit', 'brassRhythms', 'mel5', 'bass3', 'midStrings', 'rhythmChords', 'rightPiano'], 'globalStartTick': 23040, 'density': 7, 'globalEndTick': 24960, 'startTick': 7680, 'duration': 1920, 'endTick': 9600}\n",
            "\t\t\tChord:  5 {'layers': ['drumsKit', 'brassRhythms', 'mel5', 'bass3', 'midStrings', 'rhythmChords', 'rightPiano'], 'globalStartTick': 24960, 'density': 7, 'globalEndTick': 26880, 'startTick': 9600, 'duration': 1920, 'endTick': 11520}\n",
            "\t\t\tChord:  6 {'layers': ['drumsKit', 'brassRhythms', 'mel5', 'bass3', 'midStrings', 'rhythmChords', 'rightPiano'], 'globalStartTick': 26880, 'density': 7, 'globalEndTick': 28800, 'startTick': 11520, 'duration': 1920, 'endTick': 13440}\n",
            "\t\t\tChord:  7 {'layers': ['drumsKit', 'brassRhythms', 'mel5', 'bass3', 'midStrings', 'rhythmChords', 'rightPiano'], 'globalStartTick': 28800, 'density': 7, 'globalEndTick': 30720, 'startTick': 13440, 'duration': 1920, 'endTick': 15360}\n",
            "\n",
            "\tSection:  2 Uniq Mel Id:  2 Starting MNum:  17 Ending MNum:  24 TSE:  4/4\n",
            "\n",
            "\t\tPhrase:  1 {'layers': ['rightPiano2', 'arpStrings', 'hiStrings', 'mel5', 'bass2', 'bass1', 'rhythmChords'], 'startMNum': 17, 'density': 7, 'globalEndTick': 38400, 'globalStartTick': 30720, 'endMNum': 20}\n",
            "\t\t\tChord:  0 {'layers': ['rhythmChords', 'bass2', 'arpStrings', 'bass1', 'mel5', 'rightPiano2', 'hiStrings'], 'globalStartTick': 30720, 'density': 7, 'globalEndTick': 32640, 'startTick': 0, 'duration': 1920, 'endTick': 1920}\n",
            "\t\t\tChord:  1 {'layers': ['rhythmChords', 'bass2', 'arpStrings', 'bass1', 'mel5', 'rightPiano2', 'hiStrings'], 'globalStartTick': 32640, 'density': 7, 'globalEndTick': 34560, 'startTick': 1920, 'duration': 1920, 'endTick': 3840}\n",
            "\t\t\tChord:  2 {'layers': ['rhythmChords', 'bass2', 'arpStrings', 'bass1', 'mel5', 'rightPiano2', 'hiStrings'], 'globalStartTick': 34560, 'density': 7, 'globalEndTick': 36480, 'startTick': 3840, 'duration': 1920, 'endTick': 5760}\n",
            "\t\t\tChord:  3 {'layers': ['rhythmChords', 'bass2', 'arpStrings', 'bass1', 'mel5', 'rightPiano2', 'hiStrings'], 'globalStartTick': 36480, 'density': 7, 'globalEndTick': 38400, 'startTick': 5760, 'duration': 1920, 'endTick': 7680}\n",
            "\n",
            "\t\tPhrase:  2 {'layers': ['rightPiano2', 'hiStrings', 'mel5', 'bass2', 'bass1', 'midStrings', 'arpStrings', 'rhythmChords'], 'startMNum': 21, 'density': 8, 'globalEndTick': 46080, 'globalStartTick': 38400, 'endMNum': 24}\n",
            "\t\t\tChord:  4 {'layers': ['rightPiano2', 'arpStrings', 'hiStrings', 'mel5', 'bass2', 'bass1', 'rhythmChords', 'midStrings'], 'globalStartTick': 38400, 'density': 8, 'globalEndTick': 40320, 'startTick': 7680, 'duration': 1920, 'endTick': 9600}\n",
            "\t\t\tChord:  5 {'layers': ['rightPiano2', 'arpStrings', 'hiStrings', 'mel5', 'bass2', 'bass1', 'rhythmChords', 'midStrings'], 'globalStartTick': 40320, 'density': 8, 'globalEndTick': 42240, 'startTick': 9600, 'duration': 1920, 'endTick': 11520}\n",
            "\t\t\tChord:  6 {'layers': ['rightPiano2', 'arpStrings', 'hiStrings', 'mel5', 'bass2', 'bass1', 'rhythmChords', 'midStrings'], 'globalStartTick': 42240, 'density': 8, 'globalEndTick': 44160, 'startTick': 11520, 'duration': 1920, 'endTick': 13440}\n",
            "\t\t\tChord:  7 {'layers': ['rightPiano2', 'arpStrings', 'hiStrings', 'mel5', 'bass2', 'bass1', 'rhythmChords', 'midStrings'], 'globalStartTick': 44160, 'density': 8, 'globalEndTick': 46080, 'startTick': 13440, 'duration': 1920, 'endTick': 15360}\n",
            "\n",
            "\tSection:  3 Uniq Mel Id:  3 Starting MNum:  25 Ending MNum:  28 TSE:  4/4\n",
            "\n",
            "\t\tPhrase:  1 {'layers': ['drumsKit', 'rightPiano2', 'hiStrings', 'mel5', 'bass3', 'bass1', 'midStrings', 'rightPiano', 'arpStrings'], 'startMNum': 25, 'density': 9, 'globalEndTick': 53760, 'globalStartTick': 46080, 'endMNum': 28}\n",
            "\t\t\tChord:  0 {'layers': ['drumsKit', 'rightPiano', 'bass3', 'mel5', 'rightPiano2', 'bass1', 'midStrings', 'hiStrings', 'arpStrings'], 'globalStartTick': 46080, 'density': 9, 'globalEndTick': 48000, 'startTick': 0, 'duration': 1920, 'endTick': 1920}\n",
            "\t\t\tChord:  1 {'layers': ['drumsKit', 'rightPiano', 'bass3', 'mel5', 'rightPiano2', 'bass1', 'midStrings', 'hiStrings', 'arpStrings'], 'globalStartTick': 48000, 'density': 9, 'globalEndTick': 49920, 'startTick': 1920, 'duration': 1920, 'endTick': 3840}\n",
            "\t\t\tChord:  2 {'layers': ['drumsKit', 'rightPiano', 'bass3', 'mel5', 'rightPiano2', 'bass1', 'midStrings', 'hiStrings', 'arpStrings'], 'globalStartTick': 49920, 'density': 9, 'globalEndTick': 51840, 'startTick': 3840, 'duration': 1920, 'endTick': 5760}\n",
            "\t\t\tChord:  3 {'layers': ['drumsKit', 'rightPiano', 'bass3', 'mel5', 'rightPiano2', 'bass1', 'midStrings', 'hiStrings', 'arpStrings'], 'globalStartTick': 51840, 'density': 9, 'globalEndTick': 53760, 'startTick': 5760, 'duration': 1920, 'endTick': 7680}\n",
            "\n"
          ],
          "name": "stdout"
        }
      ]
    },
    {
      "metadata": {
        "id": "XSwAN_Jdl_wC",
        "colab_type": "code",
        "colab": {}
      },
      "cell_type": "code",
      "source": [
        ""
      ],
      "execution_count": 0,
      "outputs": []
    }
  ]
}